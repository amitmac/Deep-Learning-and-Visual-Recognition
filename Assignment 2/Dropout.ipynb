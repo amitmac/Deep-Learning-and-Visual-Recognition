{
 "cells": [
  {
   "cell_type": "code",
   "execution_count": null,
   "metadata": {
    "collapsed": true
   },
   "outputs": [],
   "source": [
    "# Dropout\n",
    "Dropout [1] is a technique for regularizing neural networks by randomly setting some features to zero during the forward pass. In this exercise you will implement a dropout layer and modify your fully-connected network to optionally use dropout.\n",
    "\n",
    "[1] Geoffrey E. Hinton et al, \"Improving neural networks by preventing co-adaptation of feature detectors\", arXiv 2012"
   ]
  },
  {
   "cell_type": "code",
   "execution_count": 1,
   "metadata": {
    "collapsed": false
   },
   "outputs": [
    {
     "name": "stdout",
     "output_type": "stream",
     "text": [
      "run the following from the cs231n directory and try again:\n",
      "python setup.py build_ext --inplace\n",
      "You may also need to restart your iPython kernel\n"
     ]
    }
   ],
   "source": [
    "# As usual, a bit of setup\n",
    "\n",
    "import time\n",
    "import numpy as np\n",
    "import matplotlib.pyplot as plt\n",
    "from cs231n.classifiers.fc_net import *\n",
    "from cs231n.data_utils import get_CIFAR10_data\n",
    "from cs231n.gradient_check import eval_numerical_gradient, eval_numerical_gradient_array\n",
    "from cs231n.solver import Solver\n",
    "\n",
    "%matplotlib inline\n",
    "plt.rcParams['figure.figsize'] = (10.0, 8.0) # set default size of plots\n",
    "plt.rcParams['image.interpolation'] = 'nearest'\n",
    "plt.rcParams['image.cmap'] = 'gray'\n",
    "\n",
    "# for auto-reloading external modules\n",
    "# see http://stackoverflow.com/questions/1907993/autoreload-of-modules-in-ipython\n",
    "%load_ext autoreload\n",
    "%autoreload 2\n",
    "\n",
    "def rel_error(x, y):\n",
    "  \"\"\" returns relative error \"\"\"\n",
    "  return np.max(np.abs(x - y) / (np.maximum(1e-8, np.abs(x) + np.abs(y))))"
   ]
  },
  {
   "cell_type": "code",
   "execution_count": 2,
   "metadata": {
    "collapsed": false
   },
   "outputs": [
    {
     "name": "stdout",
     "output_type": "stream",
     "text": [
      "X_val:  (1000, 3, 32, 32)\n",
      "X_train:  (49000, 3, 32, 32)\n",
      "X_test:  (1000, 3, 32, 32)\n",
      "y_val:  (1000,)\n",
      "y_train:  (49000,)\n",
      "y_test:  (1000,)\n"
     ]
    }
   ],
   "source": [
    "# Load the (preprocessed) CIFAR10 data.\n",
    "\n",
    "data = get_CIFAR10_data()\n",
    "for k, v in data.iteritems():\n",
    "  print '%s: ' % k, v.shape"
   ]
  },
  {
   "cell_type": "markdown",
   "metadata": {},
   "source": [
    "# Dropout forward pass\n",
    "In the file `cs231n/layers.py`, implement the forward pass for dropout. Since dropout behaves differently during training and testing, make sure to implement the operation for both modes.\n",
    "\n",
    "Once you have done so, run the cell below to test your implementation."
   ]
  },
  {
   "cell_type": "code",
   "execution_count": 3,
   "metadata": {
    "collapsed": false
   },
   "outputs": [
    {
     "name": "stdout",
     "output_type": "stream",
     "text": [
      "Running tests with p =  0.3\n",
      "Mean of input:  9.99747434583\n",
      "Mean of train-time output:  20.5586145456\n",
      "Mean of test-time output:  9.99747434583\n",
      "Fraction of train-time output set to zero:  0.383036\n",
      "Fraction of test-time output set to zero:  0.0\n",
      "\n",
      "Running tests with p =  0.6\n",
      "Mean of input:  9.99747434583\n",
      "Mean of train-time output:  12.1024438639\n",
      "Mean of test-time output:  9.99747434583\n",
      "Fraction of train-time output set to zero:  0.273676\n",
      "Fraction of test-time output set to zero:  0.0\n",
      "\n",
      "Running tests with p =  0.75\n",
      "Mean of input:  9.99747434583\n",
      "Mean of train-time output:  10.3104034983\n",
      "Mean of test-time output:  9.99747434583\n",
      "Fraction of train-time output set to zero:  0.226544\n",
      "Fraction of test-time output set to zero:  0.0\n",
      "\n"
     ]
    }
   ],
   "source": [
    "x = np.random.randn(500, 500) + 10\n",
    "\n",
    "for p in [0.3, 0.6, 0.75]:\n",
    "  out, _ = dropout_forward(x, {'mode': 'train', 'p': p})\n",
    "  out_test, _ = dropout_forward(x, {'mode': 'test', 'p': p})\n",
    "\n",
    "  print 'Running tests with p = ', p\n",
    "  print 'Mean of input: ', x.mean()\n",
    "  print 'Mean of train-time output: ', out.mean()\n",
    "  print 'Mean of test-time output: ', out_test.mean()\n",
    "  print 'Fraction of train-time output set to zero: ', (out == 0).mean()\n",
    "  print 'Fraction of test-time output set to zero: ', (out_test == 0).mean()\n",
    "  print"
   ]
  },
  {
   "cell_type": "markdown",
   "metadata": {},
   "source": [
    "# Dropout backward pass\n",
    "In the file `cs231n/layers.py`, implement the backward pass for dropout. After doing so, run the following cell to numerically gradient-check your implementation."
   ]
  },
  {
   "cell_type": "code",
   "execution_count": 4,
   "metadata": {
    "collapsed": false
   },
   "outputs": [
    {
     "name": "stdout",
     "output_type": "stream",
     "text": [
      "dx relative error:  5.44561147154e-11\n"
     ]
    }
   ],
   "source": [
    "x = np.random.randn(10, 10) + 10\n",
    "dout = np.random.randn(*x.shape)\n",
    "\n",
    "dropout_param = {'mode': 'train', 'p': 0.8, 'seed': 123}\n",
    "out, cache = dropout_forward(x, dropout_param)\n",
    "dx = dropout_backward(dout, cache)\n",
    "dx_num = eval_numerical_gradient_array(lambda xx: dropout_forward(xx, dropout_param)[0], x, dout)\n",
    "\n",
    "print 'dx relative error: ', rel_error(dx, dx_num)"
   ]
  },
  {
   "cell_type": "markdown",
   "metadata": {},
   "source": [
    "# Fully-connected nets with Dropout\n",
    "In the file `cs231n/classifiers/fc_net.py`, modify your implementation to use dropout. Specificially, if the constructor the the net receives a nonzero value for the `dropout` parameter, then the net should add dropout immediately after every ReLU nonlinearity. After doing so, run the following to numerically gradient-check your implementation."
   ]
  },
  {
   "cell_type": "code",
   "execution_count": 5,
   "metadata": {
    "collapsed": false
   },
   "outputs": [
    {
     "name": "stdout",
     "output_type": "stream",
     "text": [
      "Running check with dropout =  0\n",
      "Initial loss:  2.3048212527\n",
      "W1 relative error: 3.43e-07\n",
      "W2 relative error: 3.93e-07\n",
      "W3 relative error: 7.75e-08\n",
      "b1 relative error: 2.31e-08\n",
      "b2 relative error: 3.10e-08\n",
      "b3 relative error: 8.28e-11\n",
      "\n",
      "Running check with dropout =  0.25\n",
      "Initial loss:  2.32091822069\n",
      "W1 relative error: 6.93e-08\n",
      "W2 relative error: 4.51e-09\n",
      "W3 relative error: 4.08e-09\n",
      "b1 relative error: 1.60e-09\n",
      "b2 relative error: 3.10e-10\n",
      "b3 relative error: 1.12e-10\n",
      "\n",
      "Running check with dropout =  0.5\n",
      "Initial loss:  2.32930045968\n",
      "W1 relative error: 1.12e-07\n",
      "W2 relative error: 1.29e-09\n",
      "W3 relative error: 3.74e-08\n",
      "b1 relative error: 5.07e-09\n",
      "b2 relative error: 6.54e-10\n",
      "b3 relative error: 5.48e-11\n",
      "\n"
     ]
    }
   ],
   "source": [
    "N, D, H1, H2, C = 2, 15, 20, 30, 10\n",
    "X = np.random.randn(N, D)\n",
    "y = np.random.randint(C, size=(N,))\n",
    "\n",
    "for dropout in [0, 0.25, 0.5]:\n",
    "  print 'Running check with dropout = ', dropout\n",
    "  model = FullyConnectedNet([H1, H2], input_dim=D, num_classes=C,\n",
    "                            weight_scale=5e-2, dtype=np.float64,\n",
    "                            dropout=dropout, seed=123)\n",
    "\n",
    "  loss, grads = model.loss(X, y)\n",
    "  print 'Initial loss: ', loss\n",
    "\n",
    "  for name in sorted(grads):\n",
    "    f = lambda _: model.loss(X, y)[0]\n",
    "    grad_num = eval_numerical_gradient(f, model.params[name], verbose=False, h=1e-5)\n",
    "    print '%s relative error: %.2e' % (name, rel_error(grad_num, grads[name]))\n",
    "  print"
   ]
  },
  {
   "cell_type": "markdown",
   "metadata": {},
   "source": [
    "# Regularization experiment\n",
    "As an experiment, we will train a pair of two-layer networks on 500 training examples: one will use no dropout, and one will use a dropout probability of 0.75. We will then visualize the training and validation accuracies of the two networks over time."
   ]
  },
  {
   "cell_type": "code",
   "execution_count": 6,
   "metadata": {
    "collapsed": false,
    "scrolled": false
   },
   "outputs": [
    {
     "name": "stdout",
     "output_type": "stream",
     "text": [
      "0\n",
      "(Iteration 1 / 350) loss: 8.731961\n",
      "(Epoch 0 / 35) train acc: 0.199000; val_acc: 0.173000\n",
      "(Epoch 1 / 35) train acc: 0.405000; val_acc: 0.265000\n",
      "(Epoch 2 / 35) train acc: 0.500000; val_acc: 0.257000\n",
      "(Epoch 3 / 35) train acc: 0.599000; val_acc: 0.275000\n",
      "(Epoch 4 / 35) train acc: 0.686000; val_acc: 0.311000\n",
      "(Epoch 5 / 35) train acc: 0.734000; val_acc: 0.293000\n",
      "(Epoch 6 / 35) train acc: 0.746000; val_acc: 0.289000\n",
      "(Epoch 7 / 35) train acc: 0.822000; val_acc: 0.314000\n",
      "(Epoch 8 / 35) train acc: 0.813000; val_acc: 0.314000\n",
      "(Epoch 9 / 35) train acc: 0.907000; val_acc: 0.305000\n",
      "(Epoch 10 / 35) train acc: 0.932000; val_acc: 0.318000\n",
      "(Iteration 101 / 350) loss: 0.415872\n",
      "(Epoch 11 / 35) train acc: 0.931000; val_acc: 0.328000\n",
      "(Epoch 12 / 35) train acc: 0.918000; val_acc: 0.296000\n",
      "(Epoch 13 / 35) train acc: 0.953000; val_acc: 0.318000\n",
      "(Epoch 14 / 35) train acc: 0.939000; val_acc: 0.327000\n",
      "(Epoch 15 / 35) train acc: 0.957000; val_acc: 0.339000\n",
      "(Epoch 16 / 35) train acc: 0.931000; val_acc: 0.323000\n",
      "(Epoch 17 / 35) train acc: 0.939000; val_acc: 0.322000\n",
      "(Epoch 18 / 35) train acc: 0.956000; val_acc: 0.318000\n",
      "(Epoch 19 / 35) train acc: 0.957000; val_acc: 0.323000\n",
      "(Epoch 20 / 35) train acc: 0.946000; val_acc: 0.322000\n",
      "(Iteration 201 / 350) loss: 0.422006\n",
      "(Epoch 21 / 35) train acc: 0.977000; val_acc: 0.309000\n",
      "(Epoch 22 / 35) train acc: 0.964000; val_acc: 0.318000\n",
      "(Epoch 23 / 35) train acc: 0.967000; val_acc: 0.310000\n",
      "(Epoch 24 / 35) train acc: 0.964000; val_acc: 0.323000\n",
      "(Epoch 25 / 35) train acc: 0.945000; val_acc: 0.308000\n",
      "(Epoch 26 / 35) train acc: 0.966000; val_acc: 0.326000\n",
      "(Epoch 27 / 35) train acc: 0.956000; val_acc: 0.318000\n",
      "(Epoch 28 / 35) train acc: 0.965000; val_acc: 0.342000\n",
      "(Epoch 29 / 35) train acc: 0.963000; val_acc: 0.322000\n",
      "(Epoch 30 / 35) train acc: 0.954000; val_acc: 0.330000\n",
      "(Iteration 301 / 350) loss: 0.081539\n",
      "(Epoch 31 / 35) train acc: 0.927000; val_acc: 0.307000\n",
      "(Epoch 32 / 35) train acc: 0.955000; val_acc: 0.322000\n",
      "(Epoch 33 / 35) train acc: 0.947000; val_acc: 0.314000\n",
      "(Epoch 34 / 35) train acc: 0.960000; val_acc: 0.333000\n",
      "(Epoch 35 / 35) train acc: 0.946000; val_acc: 0.330000\n",
      "0.2\n",
      "(Iteration 1 / 350) loss: 30.171669\n",
      "(Epoch 0 / 35) train acc: 0.236000; val_acc: 0.207000\n",
      "(Epoch 1 / 35) train acc: 0.397000; val_acc: 0.282000\n",
      "(Epoch 2 / 35) train acc: 0.434000; val_acc: 0.280000\n",
      "(Epoch 3 / 35) train acc: 0.548000; val_acc: 0.294000\n",
      "(Epoch 4 / 35) train acc: 0.590000; val_acc: 0.297000\n",
      "(Epoch 5 / 35) train acc: 0.688000; val_acc: 0.342000\n",
      "(Epoch 6 / 35) train acc: 0.718000; val_acc: 0.321000\n",
      "(Epoch 7 / 35) train acc: 0.735000; val_acc: 0.310000\n",
      "(Epoch 8 / 35) train acc: 0.779000; val_acc: 0.321000\n",
      "(Epoch 9 / 35) train acc: 0.764000; val_acc: 0.299000\n",
      "(Epoch 10 / 35) train acc: 0.775000; val_acc: 0.304000\n",
      "(Iteration 101 / 350) loss: 9.919925\n",
      "(Epoch 11 / 35) train acc: 0.842000; val_acc: 0.309000\n",
      "(Epoch 12 / 35) train acc: 0.799000; val_acc: 0.321000\n",
      "(Epoch 13 / 35) train acc: 0.880000; val_acc: 0.321000\n",
      "(Epoch 14 / 35) train acc: 0.825000; val_acc: 0.310000\n",
      "(Epoch 15 / 35) train acc: 0.873000; val_acc: 0.306000\n",
      "(Epoch 16 / 35) train acc: 0.867000; val_acc: 0.334000\n",
      "(Epoch 17 / 35) train acc: 0.877000; val_acc: 0.319000\n",
      "(Epoch 18 / 35) train acc: 0.897000; val_acc: 0.344000\n",
      "(Epoch 19 / 35) train acc: 0.905000; val_acc: 0.332000\n",
      "(Epoch 20 / 35) train acc: 0.891000; val_acc: 0.318000\n",
      "(Iteration 201 / 350) loss: 4.151414\n",
      "(Epoch 21 / 35) train acc: 0.909000; val_acc: 0.332000\n",
      "(Epoch 22 / 35) train acc: 0.930000; val_acc: 0.323000\n",
      "(Epoch 23 / 35) train acc: 0.932000; val_acc: 0.353000\n",
      "(Epoch 24 / 35) train acc: 0.914000; val_acc: 0.334000\n",
      "(Epoch 25 / 35) train acc: 0.937000; val_acc: 0.349000\n",
      "(Epoch 26 / 35) train acc: 0.920000; val_acc: 0.338000\n",
      "(Epoch 27 / 35) train acc: 0.927000; val_acc: 0.349000\n",
      "(Epoch 28 / 35) train acc: 0.937000; val_acc: 0.343000\n",
      "(Epoch 29 / 35) train acc: 0.912000; val_acc: 0.336000\n",
      "(Epoch 30 / 35) train acc: 0.921000; val_acc: 0.322000\n",
      "(Iteration 301 / 350) loss: 3.658205\n",
      "(Epoch 31 / 35) train acc: 0.938000; val_acc: 0.331000\n",
      "(Epoch 32 / 35) train acc: 0.937000; val_acc: 0.334000\n",
      "(Epoch 33 / 35) train acc: 0.937000; val_acc: 0.333000\n",
      "(Epoch 34 / 35) train acc: 0.937000; val_acc: 0.338000\n",
      "(Epoch 35 / 35) train acc: 0.960000; val_acc: 0.338000\n"
     ]
    }
   ],
   "source": [
    "# Train two identical nets, one with dropout and one without\n",
    "\n",
    "num_train = 1000\n",
    "small_data = {\n",
    "  'X_train': data['X_train'][:num_train],\n",
    "  'y_train': data['y_train'][:num_train],\n",
    "  'X_val': data['X_val'],\n",
    "  'y_val': data['y_val'],\n",
    "}\n",
    "\n",
    "solvers = {}\n",
    "dropout_choices = [0, 0.2]\n",
    "for dropout in dropout_choices:\n",
    "  model = FullyConnectedNet([500], dropout=dropout)\n",
    "  print dropout\n",
    "\n",
    "  solver = Solver(model, small_data,\n",
    "                  num_epochs=35, batch_size=100,\n",
    "                  update_rule='adam',\n",
    "                  optim_config={\n",
    "                    'learning_rate': 5e-4,\n",
    "                  },\n",
    "                  verbose=True, print_every=100)\n",
    "  solver.train()\n",
    "  solvers[dropout] = solver"
   ]
  },
  {
   "cell_type": "code",
   "execution_count": 7,
   "metadata": {
    "collapsed": false
   },
   "outputs": [
    {
     "data": {
      "image/png": "[encoded data removed]",
      "text/plain": [
       "<matplotlib.figure.Figure at 0x7f37d93f8f50>"
      ]
     },
     "metadata": {},
     "output_type": "display_data"
    }
   ],
   "source": [
    "# Plot train and validation accuracies of the two models\n",
    "\n",
    "train_accs = []\n",
    "val_accs = []\n",
    "for dropout in dropout_choices:\n",
    "  solver = solvers[dropout]\n",
    "  train_accs.append(solver.train_acc_history[-1])\n",
    "  val_accs.append(solver.val_acc_history[-1])\n",
    "\n",
    "plt.subplot(3, 1, 1)\n",
    "for dropout in dropout_choices:\n",
    "  plt.plot(solvers[dropout].train_acc_history, 'o', label='%.2f dropout' % dropout)\n",
    "plt.title('Train accuracy')\n",
    "plt.xlabel('Epoch')\n",
    "plt.ylabel('Accuracy')\n",
    "plt.legend(ncol=2, loc='lower right')\n",
    "  \n",
    "plt.subplot(3, 1, 2)\n",
    "for dropout in dropout_choices:\n",
    "  plt.plot(solvers[dropout].val_acc_history, 'o', label='%.2f dropout' % dropout)\n",
    "plt.title('Val accuracy')\n",
    "plt.xlabel('Epoch')\n",
    "plt.ylabel('Accuracy')\n",
    "plt.legend(ncol=2, loc='lower right')\n",
    "\n",
    "plt.subplot(3, 1, 3)\n",
    "for dropout in dropout_choices:\n",
    "  plt.plot(solvers[dropout].loss_history, 'o', label='%.2f dropout' % dropout)\n",
    "plt.title('Loss History')\n",
    "plt.xlabel('Iteration')\n",
    "plt.ylabel('Loss')\n",
    "plt.legend(ncol=2, loc='upper right')\n",
    "\n",
    "plt.gcf().set_size_inches(15, 15)\n",
    "plt.show()"
   ]
  },
  {
   "cell_type": "markdown",
   "metadata": {},
   "source": [
    "# Question\n",
    "Explain what you see in this experiment. What does it suggest about dropout?"
   ]
  },
  {
   "cell_type": "markdown",
   "metadata": {},
   "source": [
    "# Answer\n"
   ]
  }
 ],
 "metadata": {
  "kernelspec": {
   "display_name": "Python 2",
   "language": "python",
   "name": "python2"
  },
  "language_info": {
   "codemirror_mode": {
    "name": "ipython",
    "version": 2
   },
   "file_extension": ".py",
   "mimetype": "text/x-python",
   "name": "python",
   "nbconvert_exporter": "python",
   "pygments_lexer": "ipython2",
   "version": "2.7.6"
  }
 },
 "nbformat": 4,
 "nbformat_minor": 0
}
