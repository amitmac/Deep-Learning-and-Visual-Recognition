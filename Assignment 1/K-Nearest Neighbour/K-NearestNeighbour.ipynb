{
 "metadata": {
  "name": "",
  "signature": "sha256:b8c49b6a03ac8575eb38e53abe00d3c6a86f63a5220fe8fb966b6e276076cd4e"
 },
 "nbformat": 3,
 "nbformat_minor": 0,
 "worksheets": [
  {
   "cells": [
    {
     "cell_type": "code",
     "collapsed": false,
     "input": [
      "import cPickle"
     ],
     "language": "python",
     "metadata": {},
     "outputs": [],
     "prompt_number": 1
    },
    {
     "cell_type": "code",
     "collapsed": false,
     "input": [
      "def load_data(file):\n",
      "    with open(file,'rb') as f:\n",
      "        data = cPickle.load(f)\n",
      "        f.close()\n",
      "        X = data['data']\n",
      "        Y = data['labels']\n",
      "        X = X.reshape(10000,3,32,32).transpose(0,2,3,1).astype(\"float\")\n",
      "        Y = np.array(Y)\n",
      "    return X, Y"
     ],
     "language": "python",
     "metadata": {},
     "outputs": [],
     "prompt_number": 69
    },
    {
     "cell_type": "code",
     "collapsed": false,
     "input": [
      "X_train,Y_train = load_data(\"D:\\Work\\Deep Learning for Visual Recognition\\\\assignment1\\cs231n\\datasets\\cifar-10-batches-py\\data_batch_1\")\n",
      "X_test,Y_test = load_data(\"D:\\Work\\Deep Learning for Visual Recognition\\\\assignment1\\cs231n\\datasets\\cifar-10-batches-py\\\\test_batch\")"
     ],
     "language": "python",
     "metadata": {},
     "outputs": [],
     "prompt_number": 72
    },
    {
     "cell_type": "code",
     "collapsed": false,
     "input": [
      "print a[1]\n",
      "print a[1][3]"
     ],
     "language": "python",
     "metadata": {},
     "outputs": [
      {
       "output_type": "stream",
       "stream": "stdout",
       "text": [
        "[[ 9  0]\n",
        " [12 11]\n",
        " [13 14]\n",
        " [12 17]]\n",
        "[12 17]\n"
       ]
      }
     ],
     "prompt_number": 30
    },
    {
     "cell_type": "code",
     "collapsed": false,
     "input": [
      "a = np.random.randn(96)"
     ],
     "language": "python",
     "metadata": {},
     "outputs": [],
     "prompt_number": 48
    },
    {
     "cell_type": "code",
     "collapsed": false,
     "input": [
      "len(a)"
     ],
     "language": "python",
     "metadata": {},
     "outputs": [
      {
       "metadata": {},
       "output_type": "pyout",
       "prompt_number": 35,
       "text": [
        "96"
       ]
      }
     ],
     "prompt_number": 35
    },
    {
     "cell_type": "code",
     "collapsed": false,
     "input": [
      "b = a.reshape(2,3,4,4)"
     ],
     "language": "python",
     "metadata": {},
     "outputs": [],
     "prompt_number": 51
    },
    {
     "cell_type": "code",
     "collapsed": false,
     "input": [
      "c = a.reshape(2,4,4,3)"
     ],
     "language": "python",
     "metadata": {},
     "outputs": [],
     "prompt_number": 52
    },
    {
     "cell_type": "code",
     "collapsed": false,
     "input": [
      "d = b.transpose(0,2,3,1)\n",
      "d.shape"
     ],
     "language": "python",
     "metadata": {},
     "outputs": [
      {
       "metadata": {},
       "output_type": "pyout",
       "prompt_number": 58,
       "text": [
        "(2L, 4L, 4L, 3L)"
       ]
      }
     ],
     "prompt_number": 58
    },
    {
     "cell_type": "code",
     "collapsed": false,
     "input": [
      "b.shape"
     ],
     "language": "python",
     "metadata": {},
     "outputs": [
      {
       "metadata": {},
       "output_type": "pyout",
       "prompt_number": 60,
       "text": [
        "(2L, 3L, 4L, 4L)"
       ]
      }
     ],
     "prompt_number": 60
    },
    {
     "cell_type": "code",
     "collapsed": false,
     "input": [
      "print a.shape"
     ],
     "language": "python",
     "metadata": {},
     "outputs": [
      {
       "output_type": "stream",
       "stream": "stdout",
       "text": [
        "(2L, 3L, 4L, 4L)\n"
       ]
      }
     ],
     "prompt_number": 46
    },
    {
     "cell_type": "code",
     "collapsed": false,
     "input": [
      "print b.shape"
     ],
     "language": "python",
     "metadata": {},
     "outputs": [
      {
       "output_type": "stream",
       "stream": "stdout",
       "text": [
        "(2L, 4L, 4L, 3L)\n"
       ]
      }
     ],
     "prompt_number": 47
    },
    {
     "cell_type": "code",
     "collapsed": false,
     "input": [
      "b"
     ],
     "language": "python",
     "metadata": {},
     "outputs": [
      {
       "metadata": {},
       "output_type": "pyout",
       "prompt_number": 61,
       "text": [
        "array([[[[ 0.91427205,  0.91547853,  1.616727  , -0.028965  ],\n",
        "         [-0.83977241, -0.71911319,  0.22547688, -0.99974785],\n",
        "         [-1.16626326, -1.57513487, -1.47323582,  0.58961031],\n",
        "         [ 1.06360606, -0.14771772, -2.43112431, -0.02202464]],\n",
        "\n",
        "        [[-0.0240454 ,  0.95493257, -0.59783375, -1.29955606],\n",
        "         [ 1.387874  , -2.83810783,  0.34544394, -0.61709428],\n",
        "         [ 1.40907622,  1.06876152,  0.3799086 , -0.77901732],\n",
        "         [ 1.63484369,  0.79590572,  1.39503504, -0.06176239]],\n",
        "\n",
        "        [[ 0.67614591,  1.78100038,  0.93079279,  1.08940702],\n",
        "         [-0.50846811,  1.45558011,  1.12497141, -0.0063855 ],\n",
        "         [-1.82905987,  1.47637135,  0.72129733, -0.01702829],\n",
        "         [ 0.93815063, -1.76514748,  1.16557851,  2.18257633]]],\n",
        "\n",
        "\n",
        "       [[[ 0.68984916, -0.50486104,  1.68989845,  1.73374311],\n",
        "         [ 0.33429152,  0.12183438, -0.39298522, -0.11210137],\n",
        "         [ 1.03647019,  1.28531284,  1.08087235, -0.30862321],\n",
        "         [-0.49020291, -0.42591886, -0.41887061, -0.63073065]],\n",
        "\n",
        "        [[ 0.96405096,  1.19934927,  0.1979553 , -0.85255143],\n",
        "         [ 1.17947321, -1.36141579, -0.70950229,  0.53667415],\n",
        "         [-0.10974203,  0.40012439, -0.06815912,  0.44266921],\n",
        "         [-0.37423462, -1.05972816,  0.64396624, -1.25722189]],\n",
        "\n",
        "        [[-0.95681154,  0.36904556, -0.97319729,  1.03334913],\n",
        "         [ 1.66143667,  0.6907886 , -1.01271506, -0.72224531],\n",
        "         [ 0.4863311 , -0.47214376,  0.09344817, -0.42254882],\n",
        "         [ 0.4624664 ,  1.24315558,  1.85635857,  2.13151428]]]])"
       ]
      }
     ],
     "prompt_number": 61
    },
    {
     "cell_type": "code",
     "collapsed": false,
     "input": [
      "d"
     ],
     "language": "python",
     "metadata": {},
     "outputs": [
      {
       "metadata": {},
       "output_type": "pyout",
       "prompt_number": 62,
       "text": [
        "array([[[[ 0.91427205, -0.0240454 ,  0.67614591],\n",
        "         [ 0.91547853,  0.95493257,  1.78100038],\n",
        "         [ 1.616727  , -0.59783375,  0.93079279],\n",
        "         [-0.028965  , -1.29955606,  1.08940702]],\n",
        "\n",
        "        [[-0.83977241,  1.387874  , -0.50846811],\n",
        "         [-0.71911319, -2.83810783,  1.45558011],\n",
        "         [ 0.22547688,  0.34544394,  1.12497141],\n",
        "         [-0.99974785, -0.61709428, -0.0063855 ]],\n",
        "\n",
        "        [[-1.16626326,  1.40907622, -1.82905987],\n",
        "         [-1.57513487,  1.06876152,  1.47637135],\n",
        "         [-1.47323582,  0.3799086 ,  0.72129733],\n",
        "         [ 0.58961031, -0.77901732, -0.01702829]],\n",
        "\n",
        "        [[ 1.06360606,  1.63484369,  0.93815063],\n",
        "         [-0.14771772,  0.79590572, -1.76514748],\n",
        "         [-2.43112431,  1.39503504,  1.16557851],\n",
        "         [-0.02202464, -0.06176239,  2.18257633]]],\n",
        "\n",
        "\n",
        "       [[[ 0.68984916,  0.96405096, -0.95681154],\n",
        "         [-0.50486104,  1.19934927,  0.36904556],\n",
        "         [ 1.68989845,  0.1979553 , -0.97319729],\n",
        "         [ 1.73374311, -0.85255143,  1.03334913]],\n",
        "\n",
        "        [[ 0.33429152,  1.17947321,  1.66143667],\n",
        "         [ 0.12183438, -1.36141579,  0.6907886 ],\n",
        "         [-0.39298522, -0.70950229, -1.01271506],\n",
        "         [-0.11210137,  0.53667415, -0.72224531]],\n",
        "\n",
        "        [[ 1.03647019, -0.10974203,  0.4863311 ],\n",
        "         [ 1.28531284,  0.40012439, -0.47214376],\n",
        "         [ 1.08087235, -0.06815912,  0.09344817],\n",
        "         [-0.30862321,  0.44266921, -0.42254882]],\n",
        "\n",
        "        [[-0.49020291, -0.37423462,  0.4624664 ],\n",
        "         [-0.42591886, -1.05972816,  1.24315558],\n",
        "         [-0.41887061,  0.64396624,  1.85635857],\n",
        "         [-0.63073065, -1.25722189,  2.13151428]]]])"
       ]
      }
     ],
     "prompt_number": 62
    },
    {
     "cell_type": "code",
     "collapsed": false,
     "input": [],
     "language": "python",
     "metadata": {},
     "outputs": []
    }
   ],
   "metadata": {}
  }
 ]
}